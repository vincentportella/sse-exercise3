{
 "cells": [
  {
   "cell_type": "code",
   "execution_count": 64,
   "metadata": {},
   "outputs": [],
   "source": [
    "import re\n",
    "import git\n",
    "\n",
    "# Set the path of the git repository and the commit id\n",
    "\n",
    "repo_name = 'spring-framework'\n",
    "id = '2ae6a6a3415eebc57babcb9d3e5505887eda6d8a'\n",
    "\n",
    "repo = git.Repo(repo_name)\n",
    "commit = repo.commit(id)"
   ]
  },
  {
   "cell_type": "code",
   "execution_count": 65,
   "metadata": {},
   "outputs": [],
   "source": [
    "filenames = []\n",
    "\n",
    "for filename in commit.stats.files:\n",
    "    filenames.append(filename)\n",
    "\n",
    "# Will need a set of commits to count all of their occurrences\n",
    "\n",
    "gitShow = repo.git.show(commit)\n",
    "files = re.split(r'diff --.*\\n', gitShow)\n",
    "   \n",
    "removedLines = []\n",
    "addedLines = []\n",
    "    \n",
    "for i in range(1, len(files)):\n",
    "    snippets = re.split(r'@@.*\\n', files[i])\n",
    "    snippetIndex = 1\n",
    "    \n",
    "    removedTemp = []\n",
    "    addedTemp = []\n",
    "\n",
    "    for match in re.findall(re.compile(r'@@.*', re.MULTILINE), files[i]):\n",
    "        split = match.split(' ')\n",
    "\n",
    "        before = split[1].replace('-', '').split(',')\n",
    "        before = [int(x) for x in before]\n",
    "\n",
    "        after = split[2].replace('+', '').split(',')\n",
    "        after = [int(x) for x in after]\n",
    "\n",
    "        beforeCounter = before[0]\n",
    "        afterCounter = after[0]\n",
    "\n",
    "        lines = snippets[snippetIndex].split('\\n')\n",
    "\n",
    "        # Record removed/added lines\n",
    "        for line in lines:\n",
    "            if len(line) > 0 and line[0] is '-':\n",
    "                \n",
    "                # Ignore empty lines and comments (single line and multiline)\n",
    "                if len(line) > 1 and len(re.findall(re.compile(r'^\\-((\\s*)((\\/\\/)|\\*|(\\/\\*)))', re.MULTILINE), line)) == 0:\n",
    "                    removedTemp.append(beforeCounter)\n",
    "\n",
    "                beforeCounter += 1\n",
    "            elif len(line) > 0 and line[0] is '+':\n",
    "                \n",
    "                # Ignore empty lines and comments (single line and multiline)\n",
    "                if len(line) > 1 and len(re.findall(re.compile(r'^\\+((\\s*)((\\/\\/)|\\*|(\\/\\*)))', re.MULTILINE), line)) == 0:\n",
    "                    addedTemp.append(afterCounter)\n",
    "\n",
    "                afterCounter += 1\n",
    "            else:\n",
    "                beforeCounter += 1\n",
    "                afterCounter += 1\n",
    "\n",
    "        snippetIndex += 1\n",
    "\n",
    "    removedLines.append(removedTemp)\n",
    "    addedLines.append(addedTemp)"
   ]
  },
  {
   "cell_type": "code",
   "execution_count": 81,
   "metadata": {},
   "outputs": [
    {
     "name": "stdout",
     "output_type": "stream",
     "text": [
      "ca01cb4df61c1b41afe0ae5ad178181c4cabdf20 19\n",
      "dc0613f487d6927d1b98d413955229ee1b47e1e4 7\n",
      "4ae1709313bece1c34646ec29a0189c58bf88584 1\n",
      "d14cc0d7a20326fb5643dd966af71d2691a376da 17\n",
      "6626a38730050c83a0dd6cdc1bfc510024e9ca95 2\n",
      "85b8befbd1e4b7b4a975c92c592577fe58ffdd8f 1\n"
     ]
    }
   ],
   "source": [
    "# Find all commits of deleted lines (a)\n",
    "\n",
    "VCCs = {}\n",
    "\n",
    "for i in range(0, len(filenames)):\n",
    "    lineCount = 0\n",
    "    lineIndex = 0\n",
    "    \n",
    "    previousCommit = None\n",
    "    commits = repo.iter_commits(str(commit) + '^@', paths=filenames[i])\n",
    "    \n",
    "    for com in commits:\n",
    "        previousCommit = com\n",
    "        break\n",
    "\n",
    "    if previousCommit is not None:\n",
    "\n",
    "        # Find all commits of deleted lines\n",
    "        for changeCommit, lines in repo.blame(commit.parents[0], filenames[i]):\n",
    "            lineCount += len(lines)\n",
    "\n",
    "            while lineIndex < len(removedLines[i]) and removedLines[i][lineIndex] <= lineCount:\n",
    "                if str(changeCommit) in VCCs:\n",
    "                    VCCs[str(changeCommit)] += 1\n",
    "                else:\n",
    "                    VCCs[str(changeCommit)] = 1\n",
    "\n",
    "                lineIndex += 1\n",
    "\n",
    "for com in VCCs:\n",
    "    print(com, VCCs[com])"
   ]
  },
  {
   "cell_type": "code",
   "execution_count": 67,
   "metadata": {},
   "outputs": [],
   "source": [
    "for i in range(0, len(filenames)):\n",
    "    lines = []\n",
    "    commitLines = [None]\n",
    "\n",
    "    # Add all added lines from the file\n",
    "    for line in addedLines[i]:\n",
    "        lines.append(line)\n",
    "\n",
    "    # Add all lines and commits from the file (excluding whitespace and comments)\n",
    "    for c, l in repo.blame(commit, filenames[i]):\n",
    "        for line in l:\n",
    "            if len(commitLines) not in lines and len(line) > 1 and len(re.findall(re.compile(r'^((\\s*)((\\/\\/)|\\*|(\\/\\*)))', re.MULTILINE), line)) == 0:\n",
    "                commitLines.append((line, str(c)))\n",
    "            else:\n",
    "                commitLines.append((line, None))\n",
    "\n",
    "    for i in range(0, len(lines)):\n",
    "        if lines[i] is None:\n",
    "            continue\n",
    "\n",
    "        currentLine = lines[i]\n",
    "        lines[i] = None\n",
    "\n",
    "        depth = 0\n",
    "        current = currentLine + 1\n",
    "\n",
    "        # For each line, look below for any lines in the same scope which have different commits\n",
    "        while current < len(commitLines) and depth >= 0:\n",
    "            if depth == 0:\n",
    "                if current in lines:\n",
    "                    lines = [None if x == current else x for x in lines]\n",
    "                elif commitLines[current][1] is not None and commitLines[current][1] != str(commit):\n",
    "                    if commitLines[current][1] in VCCs:\n",
    "                        VCCs[commitLines[current][1]] += 1\n",
    "                    else:\n",
    "                        VCCs[commitLines[current][1]] = 1\n",
    "\n",
    "            # Update scope depth\n",
    "            depth += commitLines[current][0].count('{')\n",
    "            depth -= commitLines[current][0].count('}')\n",
    "            current += 1\n",
    "\n",
    "        depth = 0\n",
    "        current = currentLine - 1\n",
    "\n",
    "        # For each line, look above for any lines in the same scope which have different commits\n",
    "        while current > len(commitLines) and depth >= 0:\n",
    "            if depth == 0:\n",
    "                if current in lines:\n",
    "                    lines = [None if x == current else x for x in lines]\n",
    "                elif commitLines[current][1] is not None and commitLines[current][1] != str(commit):\n",
    "                    if commitLines[current][1] in VCCs:\n",
    "                        VCCs[commitLines[current][1]] += 1\n",
    "                    else:\n",
    "                        VCCs[commitLines[current][1]] = 1\n",
    "\n",
    "            # Update scope depth\n",
    "            depth += commitLines[current][0].count('}')\n",
    "            depth -= commitLines[current][0].count('{')\n",
    "            current -= 1"
   ]
  },
  {
   "cell_type": "code",
   "execution_count": 68,
   "metadata": {},
   "outputs": [
    {
     "name": "stdout",
     "output_type": "stream",
     "text": [
      "ca01cb4df61c1b41afe0ae5ad178181c4cabdf20 70\n",
      "dc0613f487d6927d1b98d413955229ee1b47e1e4 8\n",
      "4ae1709313bece1c34646ec29a0189c58bf88584 1\n",
      "d14cc0d7a20326fb5643dd966af71d2691a376da 23\n",
      "6626a38730050c83a0dd6cdc1bfc510024e9ca95 5\n",
      "85b8befbd1e4b7b4a975c92c592577fe58ffdd8f 12\n",
      "33674933eae53d17034e9f3cfb2d29ff31930d81 17\n",
      "f2fdf9fa6b3ea96790051518032fee802296130a 1\n",
      "ee0a59d464630f91ae310cafa05908422b808a58 1\n",
      "\n",
      "ca01cb4df61c1b41afe0ae5ad178181c4cabdf20 70\n",
      "ca01cb4df61c1b41afe0ae5ad178181c4cabdf20\n"
     ]
    }
   ],
   "source": [
    "for com in VCCs:\n",
    "    print(com, VCCs[com])\n",
    "    \n",
    "VCCid = None\n",
    "maxOccur = 0\n",
    "\n",
    "for com in VCCs:\n",
    "    if VCCs[com] > maxOccur:\n",
    "        VCCid = com\n",
    "        maxOccur = VCCs[com]\n",
    "        \n",
    "print()\n",
    "print(VCCid, maxOccur)\n",
    "\n",
    "VCC = repo.commit(VCCid)\n",
    "\n",
    "print(VCC)"
   ]
  },
  {
   "cell_type": "code",
   "execution_count": 69,
   "metadata": {},
   "outputs": [
    {
     "name": "stdout",
     "output_type": "stream",
     "text": [
      "Title and message\n",
      "-----------------\n",
      "\n",
      "SPR-5539: Add XML HttpMessageConverters\n",
      "\n"
     ]
    }
   ],
   "source": [
    "print('Title and message')\n",
    "print('-----------------', end='\\n\\n')\n",
    "print(VCC.message)"
   ]
  },
  {
   "cell_type": "code",
   "execution_count": 70,
   "metadata": {},
   "outputs": [
    {
     "name": "stdout",
     "output_type": "stream",
     "text": [
      "Number of affected files\n",
      "------------------------\n",
      "\n",
      "8 files were affected\n"
     ]
    }
   ],
   "source": [
    "print('Number of affected files')\n",
    "print('------------------------', end='\\n\\n')\n",
    "\n",
    "if VCC.stats.total['files'] == 1:\n",
    "    print(str(VCC.stats.total['files']) + ' file was affected')\n",
    "else:\n",
    "    print(str(VCC.stats.total['files']) + ' files were affected')"
   ]
  },
  {
   "cell_type": "code",
   "execution_count": 71,
   "metadata": {},
   "outputs": [
    {
     "name": "stdout",
     "output_type": "stream",
     "text": [
      "Number of affected directories\n",
      "------------------------------\n",
      "\n",
      "\n",
      "3 directories were affected\n"
     ]
    }
   ],
   "source": [
    "print('Number of affected directories')\n",
    "print('------------------------------', end='\\n\\n')\n",
    "\n",
    "uniqueDir = set()\n",
    "\n",
    "for file in VCC.stats.files:\n",
    "    # Split and reconstruct to find the path of each file\n",
    "    directories = file.split('/')\n",
    "    uniqueDir.add('/'.join(directories[:-1]))\n",
    "#     print('/'.join(directories[:-1]))\n",
    "    \n",
    "if len(uniqueDir) == 1:\n",
    "    print('\\n' + str(len(uniqueDir)) + ' directory was affected')\n",
    "else:\n",
    "    print('\\n' + str(len(uniqueDir)) + ' directories were affected')"
   ]
  },
  {
   "cell_type": "code",
   "execution_count": 72,
   "metadata": {},
   "outputs": [
    {
     "name": "stdout",
     "output_type": "stream",
     "text": [
      "Total lines removed (including comments and blank lines)\n",
      "--------------------------------------------------------\n",
      "\n",
      "0 lines were removed\n"
     ]
    }
   ],
   "source": [
    "print('Total lines removed (including comments and blank lines)')\n",
    "print('--------------------------------------------------------', end='\\n\\n')\n",
    "print(str(VCC.stats.total['deletions']) + ' lines were removed')"
   ]
  },
  {
   "cell_type": "code",
   "execution_count": 73,
   "metadata": {},
   "outputs": [
    {
     "name": "stdout",
     "output_type": "stream",
     "text": [
      "Total lines added (including comments and blank lines)\n",
      "------------------------------------------------------\n",
      "\n",
      "445 lines were inserted\n"
     ]
    }
   ],
   "source": [
    "print('Total lines added (including comments and blank lines)')\n",
    "print('------------------------------------------------------', end='\\n\\n')\n",
    "print(str(VCC.stats.total['insertions']) + ' lines were inserted')"
   ]
  },
  {
   "cell_type": "code",
   "execution_count": 74,
   "metadata": {},
   "outputs": [
    {
     "name": "stdout",
     "output_type": "stream",
     "text": [
      "Total lines removed (excluding comments and blank lines)\n",
      "--------------------------------------------------------\n",
      "\n",
      "0 lines were removed\n"
     ]
    }
   ],
   "source": [
    "print('Total lines removed (excluding comments and blank lines)')\n",
    "print('--------------------------------------------------------', end='\\n\\n')\n",
    "\n",
    "# Exclude whitespace and comments\n",
    "diff = repo.git.show(VCC)\n",
    "\n",
    "total_lines = VCC.stats.total['deletions'] - len(re.findall(re.compile(r'^\\-((\\s*)((\\/\\/)|\\*|(\\/\\*)))', re.MULTILINE), diff))\n",
    "print(str(total_lines) + ' lines were removed')"
   ]
  },
  {
   "cell_type": "code",
   "execution_count": 75,
   "metadata": {},
   "outputs": [
    {
     "name": "stdout",
     "output_type": "stream",
     "text": [
      "Total lines inserted (excluding comments and blank lines)\n",
      "---------------------------------------------------------\n",
      "\n",
      "348 lines were inserted\n"
     ]
    }
   ],
   "source": [
    "print('Total lines inserted (excluding comments and blank lines)')\n",
    "print('---------------------------------------------------------', end='\\n\\n')\n",
    "\n",
    "# Exclude whitespace and comments\n",
    "total_lines = VCC.stats.total['insertions'] - len(re.findall(re.compile(r'^\\+((\\s*)((\\/\\/)|\\*|(\\/\\*)))', re.MULTILINE), diff))\n",
    "print(str(total_lines) + ' lines were inserted')"
   ]
  },
  {
   "cell_type": "code",
   "execution_count": 76,
   "metadata": {},
   "outputs": [
    {
     "name": "stdout",
     "output_type": "stream",
     "text": [
      "Days since previous commit for each file\n",
      "----------------------------------------\n",
      "\n",
      "9.987534722222222 days:\torg.springframework.web/ivy.xml\n",
      "File created:\torg.springframework.web/src/main/java/org/springframework/http/converter/xml/AbstractXmlHttpMessageConverter.java\n",
      "File created:\torg.springframework.web/src/main/java/org/springframework/http/converter/xml/MarshallingHttpMessageConverter.java\n",
      "File created:\torg.springframework.web/src/main/java/org/springframework/http/converter/xml/SourceHttpMessageConverter.java\n",
      "File created:\torg.springframework.web/src/main/java/org/springframework/http/converter/xml/package.html\n",
      "\n",
      "Average: 1.2484418402777777\n"
     ]
    }
   ],
   "source": [
    "print('Days since previous commit for each file')\n",
    "print('----------------------------------------', end='\\n\\n')\n",
    "\n",
    "average = 0\n",
    "count = 0\n",
    "\n",
    "for file in VCC.stats.files:\n",
    "    commits = repo.iter_commits('--all', paths=file)\n",
    "\n",
    "    finished = False\n",
    "    previous_commit = None\n",
    "\n",
    "    # Find the commit which is next in the list after the current commit\n",
    "    \n",
    "    for com in commits:\n",
    "        if finished:\n",
    "            previous_commit = com\n",
    "            break\n",
    "\n",
    "        if str(com) == str(VCC):\n",
    "            finished = True\n",
    "\n",
    "    if previous_commit is None:\n",
    "        print('File created:', end='\\t')\n",
    "    else:\n",
    "        # Find the number of days between the commits\n",
    "        time_diff = VCC.committed_date - previous_commit.committed_date\n",
    "        print(time_diff / 86400, end=' days:\\t')\n",
    "        average += time_diff / 86400\n",
    "        \n",
    "    print(file)\n",
    "        \n",
    "    count += 1\n",
    "    \n",
    "    if count == 5:\n",
    "        break\n",
    "\n",
    "print('\\nAverage: ' + str(average / len(VCC.stats.files)))"
   ]
  },
  {
   "cell_type": "code",
   "execution_count": 77,
   "metadata": {},
   "outputs": [
    {
     "name": "stdout",
     "output_type": "stream",
     "text": [
      "Number of modifications to each file before the current commit\n",
      "--------------------------------------------------------------\n",
      "\n",
      "9\torg.springframework.web/ivy.xml\n",
      "0\torg.springframework.web/src/main/java/org/springframework/http/converter/xml/AbstractXmlHttpMessageConverter.java\n",
      "0\torg.springframework.web/src/main/java/org/springframework/http/converter/xml/MarshallingHttpMessageConverter.java\n",
      "0\torg.springframework.web/src/main/java/org/springframework/http/converter/xml/SourceHttpMessageConverter.java\n",
      "0\torg.springframework.web/src/main/java/org/springframework/http/converter/xml/package.html\n",
      "0\torg.springframework.web/src/test/java/org/springframework/http/converter/xml/MarshallingHttpMessageConverterTest.java\n",
      "0\torg.springframework.web/src/test/java/org/springframework/http/converter/xml/SourceHttpMessageConverterTest.java\n",
      "6\torg.springframework.web/web.iml\n",
      "\n",
      "Average: 1.875\n"
     ]
    }
   ],
   "source": [
    "print('Number of modifications to each file before the current commit')\n",
    "print('--------------------------------------------------------------', end='\\n\\n')\n",
    "\n",
    "average = 0\n",
    "\n",
    "for file in VCC.stats.files:\n",
    "    count = -1\n",
    "\n",
    "    commits = repo.iter_commits('--all', paths=file)\n",
    "    \n",
    "    # Count the number of modifications to each file before the current commit\n",
    "    \n",
    "    for com in commits:\n",
    "        if count >= 0:\n",
    "            count += 1\n",
    "\n",
    "        if str(com) == str(VCC):\n",
    "            count = 0\n",
    "\n",
    "    average += count\n",
    "    print(count, end='\\t')\n",
    "    print(file)\n",
    "    \n",
    "print('\\nAverage: ' + str(average / len(VCC.stats.files)))"
   ]
  },
  {
   "cell_type": "code",
   "execution_count": 78,
   "metadata": {},
   "outputs": [
    {
     "name": "stdout",
     "output_type": "stream",
     "text": [
      "Names of developers who worked on each file\n",
      "-------------------------------------------\n",
      "\n",
      "org.springframework.web/ivy.xml\n",
      "Chris Beams\n",
      "Juergen Hoeller\n",
      "Arjen Poutsma\n",
      "Total: 3\n",
      "\n",
      "org.springframework.web/src/main/java/org/springframework/http/converter/xml/AbstractXmlHttpMessageConverter.java\n",
      "Arjen Poutsma\n",
      "Total: 1\n",
      "\n",
      "org.springframework.web/src/main/java/org/springframework/http/converter/xml/MarshallingHttpMessageConverter.java\n",
      "Arjen Poutsma\n",
      "Total: 1\n",
      "\n",
      "org.springframework.web/src/main/java/org/springframework/http/converter/xml/SourceHttpMessageConverter.java\n",
      "Arjen Poutsma\n",
      "Total: 1\n",
      "\n",
      "org.springframework.web/src/main/java/org/springframework/http/converter/xml/package.html\n",
      "Arjen Poutsma\n",
      "Total: 1\n",
      "\n",
      "org.springframework.web/src/test/java/org/springframework/http/converter/xml/MarshallingHttpMessageConverterTest.java\n",
      "Arjen Poutsma\n",
      "Total: 1\n",
      "\n",
      "org.springframework.web/src/test/java/org/springframework/http/converter/xml/SourceHttpMessageConverterTest.java\n",
      "Arjen Poutsma\n",
      "Total: 1\n",
      "\n",
      "org.springframework.web/web.iml\n",
      "Juergen Hoeller\n",
      "Arjen Poutsma\n",
      "Total: 2\n",
      "\n",
      "Total:   3\n",
      "Average: 1.375\n"
     ]
    }
   ],
   "source": [
    "print('Names of developers who worked on each file')\n",
    "print('-------------------------------------------', end='\\n\\n')\n",
    "\n",
    "average = 0\n",
    "total = set()\n",
    "\n",
    "for file in VCC.stats.files:\n",
    "    print(file)\n",
    "    \n",
    "    # Add the names to a set to remove duplicates\n",
    "\n",
    "    names = set()\n",
    "    addNames = False\n",
    "    commits = repo.iter_commits('--all', paths=file)\n",
    "\n",
    "    for com in commits:\n",
    "        if str(com) == str(VCC):\n",
    "            addNames = True\n",
    "\n",
    "        if addNames is True:\n",
    "            total.add(com.author.name)\n",
    "            names.add(com.author.name)\n",
    "\n",
    "    for name in names:\n",
    "        print(name)\n",
    " \n",
    "    average += len(names)\n",
    "    print('Total: ' + str(len(names)), end='\\n\\n')\n",
    "    \n",
    "print('Total:   ' + str(len(total)))\n",
    "print('Average: ' + str(average / len(VCC.stats.files)))"
   ]
  },
  {
   "cell_type": "code",
   "execution_count": 79,
   "metadata": {},
   "outputs": [
    {
     "name": "stdout",
     "output_type": "stream",
     "text": [
      "Commits per developer\n",
      "---------------------\n",
      "\n",
      "Chris Beams    : 1049\n",
      "Juergen Hoeller: 5994\n",
      "Arjen Poutsma  : 1212\n",
      "\n",
      "Max: 5994\n",
      "Min: 1049\n"
     ]
    }
   ],
   "source": [
    "print('Commits per developer')\n",
    "print('---------------------', end='\\n\\n')\n",
    "\n",
    "max = 0\n",
    "number_of_commits = {}\n",
    "\n",
    "for name in total:\n",
    "    if len(name) > max:\n",
    "        max = len(name)\n",
    "        \n",
    "    # Get the number of commits by each author\n",
    "\n",
    "    loginfo = repo.git.log('--author=' + name)\n",
    "    number_of_commits[name] = len(re.findall(re.compile(r'^commit.*', re.MULTILINE), loginfo))\n",
    "\n",
    "max_commits = 0\n",
    "min_commits = 0\n",
    "    \n",
    "for name in number_of_commits:\n",
    "    print(name, end='')\n",
    "    \n",
    "    for i in range(len(name), max):\n",
    "        print(' ', end='')\n",
    "        \n",
    "    print(': ', end='')\n",
    "    print(number_of_commits[name])\n",
    "    \n",
    "    # Get max and min commits\n",
    "    \n",
    "    if number_of_commits[name] > max_commits:\n",
    "        max_commits = number_of_commits[name]\n",
    "        \n",
    "    if number_of_commits[name] < min_commits or min_commits == 0:\n",
    "        min_commits = number_of_commits[name]\n",
    "\n",
    "print('\\nMax: ' + str(max_commits))\n",
    "print('Min: ' + str(min_commits))"
   ]
  },
  {
   "cell_type": "code",
   "execution_count": null,
   "metadata": {},
   "outputs": [],
   "source": []
  },
  {
   "cell_type": "code",
   "execution_count": null,
   "metadata": {},
   "outputs": [],
   "source": []
  }
 ],
 "metadata": {
  "kernelspec": {
   "display_name": "Python 3",
   "language": "python",
   "name": "python3"
  },
  "language_info": {
   "codemirror_mode": {
    "name": "ipython",
    "version": 3
   },
   "file_extension": ".py",
   "mimetype": "text/x-python",
   "name": "python",
   "nbconvert_exporter": "python",
   "pygments_lexer": "ipython3",
   "version": "3.6.8"
  }
 },
 "nbformat": 4,
 "nbformat_minor": 2
}
